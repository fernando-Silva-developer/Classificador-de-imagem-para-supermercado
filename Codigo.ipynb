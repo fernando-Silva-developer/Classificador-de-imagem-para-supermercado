{
  "cells": [
    {
      "cell_type": "markdown",
      "metadata": {
        "id": "view-in-github",
        "colab_type": "text"
      },
      "source": [
        "<a href=\"https://colab.research.google.com/github/fernando-Silva-developer/Classificador-de-imagem-para-supermercado/blob/main/C%C3%B3pia_de_trabalho_Ia2.ipynb\" target=\"_parent\"><img src=\"https://colab.research.google.com/assets/colab-badge.svg\" alt=\"Open In Colab\"/></a>"
      ]
    },
    {
      "cell_type": "markdown",
      "metadata": {
        "id": "23fr5q4i27l-"
      },
      "source": [
        "Importando as bibliotecas"
      ]
    },
    {
      "cell_type": "code",
      "execution_count": null,
      "metadata": {
        "id": "vWOQPWjO9niE",
        "collapsed": true
      },
      "outputs": [],
      "source": [
        "import urllib.request\n",
        "import os\n",
        "from PIL import Image,ImageStat\n",
        "import numpy as np\n",
        "import matplotlib.pyplot as plt\n",
        "import torch.nn.functional as F\n",
        "import torchvision\n",
        "import torch\n",
        "import torch.nn as nn\n",
        "from torch.utils.data import  DataLoader\n",
        "import torchvision.transforms as transforms\n",
        "import torchsummary\n",
        "from torch import optim\n",
        "import sklearn.metrics as metrics\n",
        "from google.colab import drive\n",
        "drive.mount('/content/drive')"
      ]
    },
    {
      "cell_type": "markdown",
      "metadata": {
        "id": "Rv9WFPjo3BDd"
      },
      "source": [
        "Modelo utilizado"
      ]
    },
    {
      "cell_type": "code",
      "execution_count": null,
      "metadata": {
        "id": "Tf2bgCPpFsKQ"
      },
      "outputs": [],
      "source": [
        "\n",
        "class LeNet2(nn.Module):\n",
        "    def __init__(self):\n",
        "        super(LeNet2,self).__init__()\n",
        "        self.backbone = nn.Sequential(\n",
        "            nn.Conv2d(in_channels=3,out_channels=6,kernel_size=5,stride=1,padding=0),\n",
        "            nn.ReLU(),\n",
        "            nn.MaxPool2d(kernel_size=2,stride=2,padding=0),\n",
        "            nn.Conv2d(in_channels=6,out_channels=16,kernel_size=5,stride=1,padding=0),\n",
        "            nn.ReLU(),\n",
        "            nn.MaxPool2d(kernel_size=2,stride=2,padding=0),\n",
        "            nn.Flatten()\n",
        "        )\n",
        "        self.classifier = nn.Sequential(\n",
        "            nn.Linear(1296,120),\n",
        "            nn.ReLU(),\n",
        "            nn.Linear(120,84),\n",
        "            nn.ReLU(),\n",
        "            nn.Linear(84,2),\n",
        "        )\n",
        "\n",
        "\n",
        "    def forward(self,x):\n",
        "        x = self.backbone(x)\n",
        "        x = self.classifier(x)\n",
        "        return x\n"
      ]
    },
    {
      "cell_type": "code",
      "execution_count": null,
      "metadata": {
        "id": "87B3os60Fung"
      },
      "outputs": [],
      "source": [
        "model = LeNet2()"
      ]
    },
    {
      "cell_type": "code",
      "execution_count": null,
      "metadata": {
        "id": "JogRJgsvFulH"
      },
      "outputs": [],
      "source": [
        "model.to('cuda:0')"
      ]
    },
    {
      "cell_type": "code",
      "execution_count": null,
      "metadata": {
        "id": "LhSByh-YGCzP"
      },
      "outputs": [],
      "source": [
        "model.classifier = nn.Sequential(nn.Linear(1296,2))"
      ]
    },
    {
      "cell_type": "code",
      "execution_count": null,
      "metadata": {
        "id": "FmMiA-eCFuiQ"
      },
      "outputs": [],
      "source": [
        "model"
      ]
    },
    {
      "cell_type": "code",
      "execution_count": null,
      "metadata": {
        "id": "qZDHKoxImO7X"
      },
      "outputs": [],
      "source": [
        "import torch\n",
        "import torchsummary\n",
        "\n",
        "device = torch.device(\"cuda\" if torch.cuda.is_available() else \"cpu\")\n",
        "model = model.to(device)\n",
        "\n",
        "torchsummary.summary(model, (3, 50, 50), device=str(device))\n"
      ]
    },
    {
      "cell_type": "code",
      "execution_count": null,
      "metadata": {
        "id": "mtJusFDEFufo"
      },
      "outputs": [],
      "source": [
        "torchsummary.summary(model,(3,50,50))"
      ]
    },
    {
      "cell_type": "markdown",
      "metadata": {
        "id": "AZ_fjG5e3Wam"
      },
      "source": [
        "Importando um modelo do pytorch"
      ]
    },
    {
      "cell_type": "code",
      "execution_count": null,
      "metadata": {
        "id": "ZFFO4Yj1FscI"
      },
      "outputs": [],
      "source": [
        "model = torchvision.models.efficientnet_b0(weights = torchvision.models.EfficientNet_B0_Weights.IMAGENET1K_V1)"
      ]
    },
    {
      "cell_type": "code",
      "execution_count": null,
      "metadata": {
        "id": "XG0WldFsFsfj"
      },
      "outputs": [],
      "source": [
        "model"
      ]
    },
    {
      "cell_type": "code",
      "execution_count": null,
      "metadata": {
        "id": "pJz7mvGrFsiw"
      },
      "outputs": [],
      "source": [
        "model.classifier[1] = nn.Linear(1280,2)"
      ]
    },
    {
      "cell_type": "code",
      "execution_count": null,
      "metadata": {
        "id": "j2v1MeniGTB3"
      },
      "outputs": [],
      "source": [
        "model"
      ]
    },
    {
      "cell_type": "code",
      "execution_count": null,
      "metadata": {
        "id": "Ow4MG25-GR0_"
      },
      "outputs": [],
      "source": [
        "for layer in model.children():\n",
        "    print(layer)"
      ]
    },
    {
      "cell_type": "code",
      "execution_count": null,
      "metadata": {
        "id": "sGBdQuVYGS6v"
      },
      "outputs": [],
      "source": [
        "main_dir = '/content/drive/My Drive/frutasdef'"
      ]
    },
    {
      "cell_type": "code",
      "execution_count": null,
      "metadata": {
        "id": "1ZtRW4et9v-O"
      },
      "outputs": [],
      "source": [
        "os.chdir(main_dir)"
      ]
    },
    {
      "cell_type": "code",
      "execution_count": null,
      "metadata": {
        "id": "R59OqQet9v_l"
      },
      "outputs": [],
      "source": [
        "import torch\n",
        "from torchvision import transforms, datasets\n",
        "\n",
        "\n",
        "\n",
        "transform = transforms.Compose([\n",
        "    transforms.Resize((256, 256)),\n",
        "    transforms.CenterCrop(224),\n",
        "    transforms.ToTensor(),\n",
        "    transforms.Normalize(mean=[0.485, 0.456, 0.406], std=[0.229, 0.224, 0.225])\n",
        "])\n",
        "\n",
        "image_dataset = datasets.ImageFolder(root=main_dir, transform=transform)"
      ]
    },
    {
      "cell_type": "code",
      "execution_count": null,
      "metadata": {
        "id": "ZjJxkBwK9wBd"
      },
      "outputs": [],
      "source": [
        "print(image_dataset)"
      ]
    },
    {
      "cell_type": "code",
      "execution_count": null,
      "metadata": {
        "collapsed": true,
        "id": "LQecPTC89wDY"
      },
      "outputs": [],
      "source": [
        "dir(image_dataset)"
      ]
    },
    {
      "cell_type": "code",
      "execution_count": null,
      "metadata": {
        "id": "LUOjCc579wEl"
      },
      "outputs": [],
      "source": [
        "image_dataset.classes"
      ]
    },
    {
      "cell_type": "code",
      "execution_count": null,
      "metadata": {
        "id": "RE9vphm39wGA"
      },
      "outputs": [],
      "source": [
        "image_dataset.class_to_idx"
      ]
    },
    {
      "cell_type": "code",
      "execution_count": null,
      "metadata": {
        "id": "lqXBDs1P9wHk"
      },
      "outputs": [],
      "source": [
        "image_dataset.targets[0]"
      ]
    },
    {
      "cell_type": "code",
      "execution_count": null,
      "metadata": {
        "id": "y6go9qk39wIx"
      },
      "outputs": [],
      "source": [
        "image_dataset[0]"
      ]
    },
    {
      "cell_type": "code",
      "execution_count": null,
      "metadata": {
        "id": "JcqK_fQe9wKI"
      },
      "outputs": [],
      "source": [
        "dataset = image_dataset"
      ]
    },
    {
      "cell_type": "code",
      "execution_count": null,
      "metadata": {
        "id": "CzNsg_4U9wL1"
      },
      "outputs": [],
      "source": [
        "len(dataset)"
      ]
    },
    {
      "cell_type": "code",
      "execution_count": null,
      "metadata": {
        "id": "2TMig2V09wM5"
      },
      "outputs": [],
      "source": [
        "np.unique(dataset.targets,return_counts=True)"
      ]
    },
    {
      "cell_type": "code",
      "execution_count": null,
      "metadata": {
        "id": "q1FksmRk9wOK"
      },
      "outputs": [],
      "source": [
        "def image_loader(img):\n",
        "    return Image.open(img).convert(\"RGB\")"
      ]
    },
    {
      "cell_type": "code",
      "execution_count": null,
      "metadata": {
        "id": "y5SP8sj89wP1"
      },
      "outputs": [],
      "source": [
        "dataset = torchvision.datasets.DatasetFolder('./',loader = image_loader,extensions='jpg',transform=transform )"
      ]
    },
    {
      "cell_type": "code",
      "execution_count": null,
      "metadata": {
        "id": "oeIVLjGb9wRC"
      },
      "outputs": [],
      "source": [
        "dataset.targets = torch.tensor(dataset.targets)"
      ]
    },
    {
      "cell_type": "code",
      "execution_count": null,
      "metadata": {
        "id": "bp_IWtC49wSY"
      },
      "outputs": [],
      "source": [
        "ds = image_dataset"
      ]
    },
    {
      "cell_type": "code",
      "execution_count": null,
      "metadata": {
        "id": "pkmDxHw-9wU5"
      },
      "outputs": [],
      "source": [
        "from sklearn.model_selection import train_test_split"
      ]
    },
    {
      "cell_type": "code",
      "execution_count": null,
      "metadata": {
        "id": "-EISIPWo9wWR"
      },
      "outputs": [],
      "source": [
        "ds"
      ]
    },
    {
      "cell_type": "code",
      "execution_count": null,
      "metadata": {
        "id": "eqC51QxwChZy"
      },
      "outputs": [],
      "source": [
        "ds.targets = np.array(ds.targets)"
      ]
    },
    {
      "cell_type": "markdown",
      "metadata": {
        "id": "o2WMl5jo4VgG"
      },
      "source": [
        "Dividindo o dataset em treino, teste e validação"
      ]
    },
    {
      "cell_type": "code",
      "execution_count": null,
      "metadata": {
        "id": "kuXt_Y3aChbM"
      },
      "outputs": [],
      "source": [
        "bs = 64\n",
        "train_idx, temp_idx = train_test_split(np.arange(len(ds)),test_size=0.3,shuffle=True,stratify=ds.targets)\n",
        "valid_idx, test_idx = train_test_split(temp_idx,test_size=0.5,shuffle=True,stratify=ds.targets[temp_idx])\n",
        "\n",
        "train_sampler = torch.utils.data.SubsetRandomSampler(train_idx)\n",
        "valid_sampler = torch.utils.data.SubsetRandomSampler(valid_idx)\n",
        "test_sampler  = torch.utils.data.SubsetRandomSampler(test_idx)\n",
        "\n",
        "dl_train = torch.utils.data.DataLoader(ds,batch_size=bs,sampler=train_sampler)\n",
        "dl_valid = torch.utils.data.DataLoader(ds,batch_size=bs,sampler=valid_sampler)\n",
        "dl_test  = torch.utils.data.DataLoader(ds,batch_size=bs,sampler=test_sampler)"
      ]
    },
    {
      "cell_type": "code",
      "execution_count": null,
      "metadata": {
        "id": "0PpMwIRZChco"
      },
      "outputs": [],
      "source": [
        "x,y = next(iter(dl_train))"
      ]
    },
    {
      "cell_type": "code",
      "execution_count": null,
      "metadata": {
        "id": "D8jW8wPBCheJ"
      },
      "outputs": [],
      "source": [
        "x.shape,y.shape"
      ]
    },
    {
      "cell_type": "code",
      "execution_count": null,
      "metadata": {
        "id": "Lnv8njwOChjn"
      },
      "outputs": [],
      "source": [
        "device = torch.device('cuda:0')"
      ]
    },
    {
      "cell_type": "code",
      "execution_count": null,
      "metadata": {
        "id": "dyv_WV-rChgv"
      },
      "outputs": [],
      "source": [
        "device"
      ]
    },
    {
      "cell_type": "code",
      "execution_count": null,
      "metadata": {
        "id": "NdyefidyChk3"
      },
      "outputs": [],
      "source": [
        "torch.cuda.is_available()"
      ]
    },
    {
      "cell_type": "code",
      "execution_count": null,
      "metadata": {
        "id": "JeJEU8PiChmQ"
      },
      "outputs": [],
      "source": [
        "torch.cuda.get_device_properties(0)"
      ]
    },
    {
      "cell_type": "code",
      "execution_count": null,
      "metadata": {
        "id": "SW-gB-seChnl"
      },
      "outputs": [],
      "source": [
        "x.to(device)"
      ]
    },
    {
      "cell_type": "code",
      "execution_count": null,
      "metadata": {
        "id": "acEXPmUsChpE"
      },
      "outputs": [],
      "source": [
        "torch.cuda.get_device_properties(0)"
      ]
    },
    {
      "cell_type": "code",
      "execution_count": null,
      "metadata": {
        "id": "RenOV1L1Chq2"
      },
      "outputs": [],
      "source": [
        "model.to(device)"
      ]
    },
    {
      "cell_type": "code",
      "execution_count": null,
      "metadata": {
        "id": "s45pn6JtChsF"
      },
      "outputs": [],
      "source": [
        "loss_train = []\n",
        "loss_eval  = []"
      ]
    },
    {
      "cell_type": "code",
      "execution_count": null,
      "metadata": {
        "id": "Ic_OSYprChtk"
      },
      "outputs": [],
      "source": [
        "patience_time = 15"
      ]
    },
    {
      "cell_type": "code",
      "execution_count": null,
      "metadata": {
        "id": "qj41SRB2ChvS"
      },
      "outputs": [],
      "source": [
        "criterion = nn.CrossEntropyLoss()\n",
        "opt = optim.SGD(model.parameters(),lr=0.01)"
      ]
    },
    {
      "cell_type": "markdown",
      "metadata": {
        "id": "N5d4g_FJChwh"
      },
      "source": [
        "###TREINANDO O MODELO\n"
      ]
    },
    {
      "cell_type": "markdown",
      "metadata": {
        "id": "KXKRLJlQ2ogN"
      },
      "source": [
        "Treinei ele apenas 29 vezes porque demora muito pra rodar mais vezes com o \"patient_time\" = 15, então limitei o número de iterações para conseguir rodar em menos de 1 dia."
      ]
    },
    {
      "cell_type": "code",
      "execution_count": null,
      "metadata": {
        "id": "0mbqC5SMHp2O"
      },
      "outputs": [],
      "source": [
        "epochs = 100\n",
        "count = 0\n",
        "stop = False\n",
        "epoch = 0\n",
        "lowest_loss_eval = 10000\n",
        "last_best_result = 0\n",
        "count = 0\n",
        "while (count < 10):\n",
        "    count += 1\n",
        "    model.train()\n",
        "    lloss = []\n",
        "    for x,y in dl_train:\n",
        "        x = x.to(device)\n",
        "        y = y.to(device)\n",
        "        pred = model(x)\n",
        "        closs = criterion(pred,y)\n",
        "        closs.backward()\n",
        "        opt.step()\n",
        "        opt.zero_grad()\n",
        "        lloss.append(closs.item())\n",
        "    loss_train.append(np.mean(lloss))\n",
        "    lloss = []\n",
        "    model.eval()\n",
        "    lres = []\n",
        "    ytrue = []\n",
        "    with torch.no_grad():\n",
        "        for data,y in dl_valid:\n",
        "            data = data.to(device)\n",
        "\n",
        "            pred = model(data)\n",
        "            closs = criterion(pred.cpu(),y)\n",
        "            lloss.append(closs.item())\n",
        "            res  = pred.argmax(dim=1).cpu().tolist()\n",
        "            lres += res\n",
        "            ytrue += y\n",
        "    avg_loss_eval = np.mean(lloss)\n",
        "    loss_eval.append(avg_loss_eval)\n",
        "    if avg_loss_eval < lowest_loss_eval:\n",
        "        lowest_loss_eval = avg_loss_eval\n",
        "        last_best_result = 0\n",
        "        print(\"Best model found! saving...\")\n",
        "        count += 1\n",
        "        print(count)\n",
        "        actual_state = {'optim':opt.state_dict(),'model':model.state_dict(),'epoch':epoch,'loss_train':loss_train,'loss_eval':loss_eval}\n",
        "        torch.save(actual_state,'best_model.pth')\n",
        "    last_best_result += 1\n",
        "    if last_best_result > patience_time:\n",
        "        stop = True\n",
        "    print(\"epoch %d loss_train %4.3f loss_eval %4.3f last_best %d\"%(epoch,loss_train[-1],loss_eval[-1],last_best_result))\n",
        "    epoch += 1"
      ]
    },
    {
      "cell_type": "code",
      "execution_count": null,
      "metadata": {
        "id": "hO5gaKXC-ImZ"
      },
      "outputs": [],
      "source": [
        "import torch"
      ]
    },
    {
      "cell_type": "code",
      "execution_count": null,
      "metadata": {
        "id": "QXNLmHQUHpzm"
      },
      "outputs": [],
      "source": [
        "recover = torch.load('best_model.pth')\n",
        "actual_state = {'optim':opt.state_dict(),'model':model.state_dict(),'epoch':epoch}"
      ]
    },
    {
      "cell_type": "code",
      "execution_count": null,
      "metadata": {
        "id": "zLf0llrKHpxF"
      },
      "outputs": [],
      "source": [
        "opt.load_state_dict(recover['optim'])\n",
        "model.load_state_dict(recover['model'])\n",
        "loss_train = recover['loss_train']\n",
        "loss_eval = recover['loss_eval']\n",
        "epoch = recover['epoch']"
      ]
    },
    {
      "cell_type": "code",
      "execution_count": null,
      "metadata": {
        "id": "pRNEN9VCHpue"
      },
      "outputs": [],
      "source": [
        "l = []\n",
        "for layer in model.children():\n",
        "    l.append(layer)"
      ]
    },
    {
      "cell_type": "code",
      "execution_count": null,
      "metadata": {
        "id": "Zloh5h7HHvjq"
      },
      "outputs": [],
      "source": [
        "model"
      ]
    },
    {
      "cell_type": "code",
      "execution_count": null,
      "metadata": {
        "id": "_UKX3ZsWoypC"
      },
      "outputs": [],
      "source": [
        "device = torch.device(\"cuda\" if torch.cuda.is_available() else \"cpu\")\n",
        "model = model.to(device)\n",
        "x = torch.randn(1, 3, 448, 448).to(device)\n",
        "output = model(x)"
      ]
    },
    {
      "cell_type": "code",
      "execution_count": null,
      "metadata": {
        "id": "K9ZwltcUHvhV"
      },
      "outputs": [],
      "source": [
        "x = torch.randn(1,3,448,448).to('cuda:0')\n",
        "model(x)"
      ]
    },
    {
      "cell_type": "code",
      "execution_count": null,
      "metadata": {
        "id": "QXWf2WLfHvfF"
      },
      "outputs": [],
      "source": [
        "import matplotlib.pyplot as plt\n",
        "\n",
        "\n",
        "fig = plt.figure()\n",
        "plt.plot(loss_train[1:])\n",
        "plt.plot(loss_eval[1:])\n",
        "plt.xlabel('Epochs')\n",
        "plt.show()"
      ]
    },
    {
      "cell_type": "code",
      "execution_count": null,
      "metadata": {
        "id": "RGglZ-phH4s0"
      },
      "outputs": [],
      "source": [
        "import sklearn.metrics as metrics"
      ]
    },
    {
      "cell_type": "code",
      "execution_count": null,
      "metadata": {
        "id": "Sfk9ysSAH4qH"
      },
      "outputs": [],
      "source": [
        "model.to(device)"
      ]
    },
    {
      "cell_type": "code",
      "execution_count": null,
      "metadata": {
        "id": "bXroRgEMH4nl"
      },
      "outputs": [],
      "source": [
        "model.eval()\n",
        "lres = []\n",
        "ytrue = []\n",
        "with torch.no_grad():\n",
        "    for data,target in dl_test:\n",
        "        data = data.to(device)\n",
        "        pred = model(data)\n",
        "        res  = pred.argmax(dim=1).cpu().tolist()\n",
        "        lres += res\n",
        "        ytrue += target"
      ]
    },
    {
      "cell_type": "code",
      "execution_count": null,
      "metadata": {
        "id": "k75RyYC0H4k2"
      },
      "outputs": [],
      "source": [
        "metrics.confusion_matrix(ytrue,lres)"
      ]
    },
    {
      "cell_type": "code",
      "execution_count": null,
      "metadata": {
        "id": "VeOT2mNbH4if"
      },
      "outputs": [],
      "source": [
        "metrics.accuracy_score(ytrue,lres)"
      ]
    },
    {
      "cell_type": "code",
      "execution_count": null,
      "metadata": {
        "id": "n4WJF9gnH4fy"
      },
      "outputs": [],
      "source": [
        "metrics.precision_score(ytrue,lres)"
      ]
    },
    {
      "cell_type": "code",
      "execution_count": null,
      "metadata": {
        "id": "otg4J8YzH4dF"
      },
      "outputs": [],
      "source": [
        "metrics.recall_score(ytrue,lres)"
      ]
    },
    {
      "cell_type": "code",
      "execution_count": null,
      "metadata": {
        "id": "PkwmUESkH4al"
      },
      "outputs": [],
      "source": [
        "metrics.f1_score(ytrue,lres)"
      ]
    },
    {
      "cell_type": "code",
      "execution_count": null,
      "metadata": {
        "id": "SwJn8wNPH4YG"
      },
      "outputs": [],
      "source": [
        "print(metrics.classification_report(ytrue,lres))"
      ]
    },
    {
      "cell_type": "markdown",
      "metadata": {
        "id": "M4IdNZDo2SUg"
      },
      "source": [
        "###IMPORTANDO UMA IMAGEM PARA TESTAR O MODELO"
      ]
    },
    {
      "cell_type": "code",
      "execution_count": null,
      "metadata": {
        "id": "pVWQ_j_rIEdW"
      },
      "outputs": [],
      "source": [
        "image_loader = lambda x: Image.open(x).convert(\"RGB\")"
      ]
    },
    {
      "cell_type": "code",
      "execution_count": null,
      "metadata": {
        "id": "ZcuwTPR2Bv3x"
      },
      "outputs": [],
      "source": [
        "img2 = image_loader('./macajpg/maca.jpg')"
      ]
    },
    {
      "cell_type": "code",
      "execution_count": null,
      "metadata": {
        "colab": {
          "background_save": true
        },
        "id": "khLx7XM5IEbO"
      },
      "outputs": [],
      "source": [
        "img = image_loader('./bananajpn/IMG_4912.jpg')"
      ]
    },
    {
      "cell_type": "code",
      "execution_count": null,
      "metadata": {
        "colab": {
          "background_save": true
        },
        "id": "o1m1F9LEIEWR"
      },
      "outputs": [],
      "source": [
        "x = transform(img)"
      ]
    },
    {
      "cell_type": "code",
      "execution_count": null,
      "metadata": {
        "colab": {
          "background_save": true
        },
        "id": "YUU01XElCD2n"
      },
      "outputs": [],
      "source": [
        "y = transform(img2)"
      ]
    },
    {
      "cell_type": "code",
      "execution_count": null,
      "metadata": {
        "colab": {
          "background_save": true
        },
        "id": "Q-0bKBAHIERW"
      },
      "outputs": [],
      "source": [
        "x = x.view(1,3,224,224)"
      ]
    },
    {
      "cell_type": "code",
      "execution_count": null,
      "metadata": {
        "colab": {
          "background_save": true
        },
        "id": "4Cd0DIFaCI28"
      },
      "outputs": [],
      "source": [
        "y = y.view(1,3, 224, 224)"
      ]
    },
    {
      "cell_type": "code",
      "execution_count": null,
      "metadata": {
        "colab": {
          "background_save": true
        },
        "id": "7RzqnSQLIEMW"
      },
      "outputs": [],
      "source": [
        "x = x.to(device)"
      ]
    },
    {
      "cell_type": "code",
      "execution_count": null,
      "metadata": {
        "colab": {
          "background_save": true
        },
        "id": "0NAK4mlNCRCV"
      },
      "outputs": [],
      "source": [
        "y = y.to(device)"
      ]
    },
    {
      "cell_type": "code",
      "execution_count": null,
      "metadata": {
        "colab": {
          "background_save": true
        },
        "id": "pKt0oRxxIP5t"
      },
      "outputs": [],
      "source": [
        "pred = model(x)"
      ]
    },
    {
      "cell_type": "code",
      "execution_count": null,
      "metadata": {
        "colab": {
          "background_save": true
        },
        "id": "uKR1sQixCT5y"
      },
      "outputs": [],
      "source": [
        "pred2 = model(y)"
      ]
    },
    {
      "cell_type": "code",
      "execution_count": null,
      "metadata": {
        "colab": {
          "background_save": true
        },
        "id": "vpuvr733IP3i"
      },
      "outputs": [],
      "source": [
        "pred"
      ]
    },
    {
      "cell_type": "code",
      "execution_count": null,
      "metadata": {
        "colab": {
          "background_save": true
        },
        "id": "KuUgaXusCbTX"
      },
      "outputs": [],
      "source": [
        "pred2"
      ]
    },
    {
      "cell_type": "markdown",
      "metadata": {
        "id": "p77SszHg2Mpw"
      },
      "source": [
        "###FAZENDO UM TESTE NO MODELO"
      ]
    },
    {
      "cell_type": "code",
      "execution_count": null,
      "metadata": {
        "colab": {
          "background_save": true
        },
        "id": "_i5oib_gEDj-"
      },
      "outputs": [],
      "source": [
        "previsao = model(x)\n",
        "classe_predita = torch.argmax(previsao, dim=1)\n",
        "if classe_predita.item() == 1:\n",
        "  print(\"A imagem é uma maçã.\")\n",
        "else:\n",
        "  print(\"A imagem é uma banana.\")"
      ]
    },
    {
      "cell_type": "markdown",
      "metadata": {
        "id": "u5sJ_jHo1-j0"
      },
      "source": [
        "###CRIANDO O BOT DO TELEGRAM"
      ]
    },
    {
      "cell_type": "code",
      "execution_count": null,
      "metadata": {
        "colab": {
          "background_save": true
        },
        "id": "-haIKlLJo_-H"
      },
      "outputs": [],
      "source": [
        "!pip install telebot"
      ]
    },
    {
      "cell_type": "code",
      "execution_count": null,
      "metadata": {
        "id": "uFf4u5mEo-1c"
      },
      "outputs": [],
      "source": [
        "import telebot\n",
        "from PIL import Image\n",
        "import io\n",
        "import torch\n",
        "\n",
        "# Insira o token do seu bot\n",
        "TOKEN = \"7833060106:AAEq7kIBS6NhW78bfuX1YlbhQ3Ugt-OjiUg\"\n",
        "bot = telebot.TeleBot(TOKEN)\n",
        "\n",
        "# Variável global para armazenar a imagem\n",
        "stored_image = None\n",
        "\n",
        "@bot.message_handler(commands=['start'])\n",
        "def start(message):\n",
        "    bot.reply_to(message, \"Envie-me uma imagem para que eu a armazene.\")\n",
        "\n",
        "@bot.message_handler(content_types=['photo'])\n",
        "def handle_photo(message):\n",
        "    global stored_image\n",
        "\n",
        "    # Obtém o ID do arquivo da foto em alta resolução\n",
        "    file_id = message.photo[-1].file_id\n",
        "\n",
        "    # Baixa o arquivo da foto\n",
        "    file_info = bot.get_file(file_id)\n",
        "    downloaded_file = bot.download_file(file_info.file_path)\n",
        "\n",
        "    # Armazena a imagem em uma variável usando Pillow\n",
        "    stored_image = Image.open(io.BytesIO(downloaded_file))\n",
        "\n",
        "    # Transformação e classificação\n",
        "    x = transform(stored_image).view(1, 3, 224, 224).to(device)\n",
        "    previsao = model(x)\n",
        "    classe_predita = torch.argmax(previsao, dim=1)\n",
        "\n",
        "    if classe_predita.item() == 1:\n",
        "        bot.reply_to(message, \"Maçã!\")\n",
        "    elif classe_predita.item() == 0:\n",
        "        bot.reply_to(message, \"Banana!\")\n",
        "    else:\n",
        "        bot.reply_to(message, \"ERRO\")\n",
        "\n",
        "@bot.message_handler(commands=['get_image'])\n",
        "def get_stored_image(message):\n",
        "    if stored_image:\n",
        "        bot.reply_to(message, \"A imagem foi armazenada.\")\n",
        "    else:\n",
        "        bot.reply_to(message, \"Nenhuma imagem foi armazenada ainda.\")\n",
        "\n",
        "bot.polling()"
      ]
    }
  ],
  "metadata": {
    "colab": {
      "provenance": [],
      "include_colab_link": true
    },
    "kernelspec": {
      "display_name": "Python 3",
      "name": "python3"
    },
    "language_info": {
      "name": "python"
    }
  },
  "nbformat": 4,
  "nbformat_minor": 0
}
